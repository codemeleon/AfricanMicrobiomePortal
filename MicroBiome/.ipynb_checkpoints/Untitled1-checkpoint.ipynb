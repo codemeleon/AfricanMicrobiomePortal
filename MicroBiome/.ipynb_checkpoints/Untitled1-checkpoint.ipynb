{
 "cells": [
  {
   "cell_type": "code",
   "execution_count": 2,
   "metadata": {},
   "outputs": [],
   "source": [
    "import pandas as pd\n",
    "# import geopandas\n",
    "import matplotlib.pyplot as plt\n",
    "from pylab import *\n",
    "import pivottablejs as pj\n",
    "import pandas_profiling as pdf"
   ]
  },
  {
   "cell_type": "code",
   "execution_count": 19,
   "metadata": {},
   "outputs": [
    {
     "name": "stderr",
     "output_type": "stream",
     "text": [
      "/home/devil/anaconda3/lib/python3.6/site-packages/pandas/core/ops.py:1649: FutureWarning: elementwise comparison failed; returning scalar instead, but in the future will perform elementwise comparison\n",
      "  result = method(y)\n"
     ]
    }
   ],
   "source": [
    "def project_id(link):\n",
    "    if \"=\" in link:\n",
    "        return link.split(\"=\")[-1]\n",
    "    else:\n",
    "        return link.rstrip(\"/\").split(\"/\")[-1]\n",
    "def repo(link):\n",
    "    return 'mg-rast' if 'mg-rast' in link else 'ncbi'\n",
    "df = pd.read_csv(\"/home/devil/Downloads/refined_tot_harmonization - Main.csv\")\n",
    "df[\"repo\"] = df[\"REPOSITORY ID\"].apply(repo)\n",
    "del df[\"REPOSITORY LINK\"]\n",
    "del df['SAMPLE NAME ']\n",
    "\n",
    "for lon_lat in ['31 27','35 -4', '7 9',]:\n",
    "    df.loc[df['LON LAT']==lon_lat, 'LON LAT'] = lon_lat.replace(\" \", \",\")\n",
    "df['LON LAT'] = df['LON LAT'].apply(lambda x: x.replace(\" \",\"\"))\n",
    "df['LON LAT'] = df['LON LAT'].apply(lambda x: \",\".join(x.split(\",\")[:2]))\n",
    "df = df.rename(columns={'SAMPLE NUMBER': \"SAMPLE COUNT\", 'ETHNICITY ': 'ETHNICITY',\n",
    "                       'TARGET AMPLICON ':'TARGET AMPLICON'})\n",
    "df[df==\"-\"] = np.nan\n"
   ]
  },
  {
   "cell_type": "code",
   "execution_count": 17,
   "metadata": {},
   "outputs": [
    {
     "data": {
      "text/plain": [
       "Index(['REPOSITORY ID', 'SAMPLE NUMBER', 'STUDY TITLE', 'STUDY LINK',\n",
       "       'ASSAY TYPE', 'PLATFORM', 'COUNTRY', 'DISEASE', 'STUDY DESIGN',\n",
       "       'BODY SITE', 'PLATFORM.1', 'PARTICIPANT FEATURES',\n",
       "       'AVERAGE SPOTLENGTH ',\n",
       "       'From an imbalance to a new imbalance: italian-style gluten_free_diet alters the salivary microbiota and metabolome of african celiac_children',\n",
       "       'SAMPLE NAME ', 'COLLECTION DATE', 'LIBRARY LAYOUT', 'LON LAT',\n",
       "       'SAMPLE TYPE', 'ETHNICITY ', 'URBANZATION', 'REGION', 'CITY',\n",
       "       'TARGET AMPLICON ', 'DIET', 'repo'],\n",
       "      dtype='object')"
      ]
     },
     "execution_count": 17,
     "metadata": {},
     "output_type": "execute_result"
    }
   ],
   "source": [
    "df[\"\"]"
   ]
  },
  {
   "cell_type": "code",
   "execution_count": 14,
   "metadata": {},
   "outputs": [
    {
     "data": {
      "text/plain": [
       "(2522, 25)"
      ]
     },
     "execution_count": 14,
     "metadata": {},
     "output_type": "execute_result"
    }
   ],
   "source": [
    "df.drop_duplicates().shape\n",
    "# put collection period in years"
   ]
  },
  {
   "cell_type": "code",
   "execution_count": 28,
   "metadata": {},
   "outputs": [
    {
     "data": {
      "text/plain": [
       "CITY\n",
       "bassa/abuja      98\n",
       "blantyre         44\n",
       "cape_town        58\n",
       "eggua            70\n",
       "freetown         13\n",
       "giza             31\n",
       "kalifabougou    199\n",
       "kinshasa         15\n",
       "mtwapa           51\n",
       "mwanza           75\n",
       "nanoro           14\n",
       "dtype: int64"
      ]
     },
     "execution_count": 28,
     "metadata": {},
     "output_type": "execute_result"
    }
   ],
   "source": [
    "\n",
    "        \n",
    "\n",
    "\n",
    "df.groupby(['CITY']).size()#.shape"
   ]
  }
 ],
 "metadata": {
  "kernelspec": {
   "display_name": "Python 3",
   "language": "python",
   "name": "python3"
  },
  "language_info": {
   "codemirror_mode": {
    "name": "ipython",
    "version": 3
   },
   "file_extension": ".py",
   "mimetype": "text/x-python",
   "name": "python",
   "nbconvert_exporter": "python",
   "pygments_lexer": "ipython3",
   "version": "3.6.8"
  }
 },
 "nbformat": 4,
 "nbformat_minor": 2
}
